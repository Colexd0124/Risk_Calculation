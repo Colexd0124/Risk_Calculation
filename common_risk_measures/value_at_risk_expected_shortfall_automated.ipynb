{
 "cells": [
  {
   "cell_type": "markdown",
   "id": "0215c622",
   "metadata": {},
   "source": [
    "# Value at Risk (VaR) and Expected Shortfall (ES) Calculation"
   ]
  },
  {
   "cell_type": "markdown",
   "id": "d9872868",
   "metadata": {},
   "source": [
    "### Background on VaR and ES\n",
    "If you are new to financial risks, you may click the below links to understand more about them; If you are already familiar, feel free to skip to the code directly!\n",
    "\n",
    "#### VaR\n",
    "https://www.risk.net/definition/value-at-risk-var\n",
    "\n",
    "#### ES\n",
    "https://www.risk.net/definition/expected-shortfall\n",
    "\n",
    "#### Difference between VaR and ES\n",
    "https://www.risk.net/risk-magazine/technical-paper/1506669/var-versus-expected-shortfall"
   ]
  },
  {
   "cell_type": "markdown",
   "id": "a6c77ce1",
   "metadata": {},
   "source": [
    "### Setup\n",
    "\n",
    "Note: yfinance api is used here since it is widely used and free, and most importantly with datetime package we can roll the program daily and calculate the risk measure automatically"
   ]
  },
  {
   "cell_type": "code",
   "execution_count": null,
   "id": "682b9153",
   "metadata": {},
   "outputs": [],
   "source": [
    "# import necessary packages\n",
    "\n",
    "# import statistical packages\n",
    "import pandas as pd\n",
    "import numpy as np\n",
    "from scipy.stats import norm\n",
    "from arch import arch_model\n",
    "from statsmodels.graphics.tsaplots import plot_acf\n",
    "\n",
    "# import api datasource\n",
    "import yfinance as yf\n",
    "\n",
    "# import date calculation package\n",
    "from datetime import datetime, timedelta\n",
    "\n",
    "# import visualisation packages\n",
    "import matplotlib.pyplot as plt\n",
    "import matplotlib as mpl\n",
    "\n",
    "# warning exception handling\n",
    "pd.options.mode.chained_assignment = None\n",
    "\n",
    "# some customisation could be used if needed\n",
    "# plt.style.use('seaborn-v0_8-dark-palette')\n",
    "# mpl.rcParams['axes.prop_cycle'] = cycler(color=['#8DC2DF', '#003A79', '#ECBD00', '#006C24', '#EC6400'])"
   ]
  },
  {
   "cell_type": "markdown",
   "id": "69f6c727",
   "metadata": {},
   "source": [
    "### Input\n",
    "\n",
    "#### Here we can input the any ticker as long as the ticker is available on Yahoo Finance\n",
    "\n",
    "Example: We input 'VOO' for Vanguard S&P 500 ETF\n",
    "\n",
    "Alpha is adjustable here and normally we input 0.05, 0.25 and 0.01 for 95%, 97.5% and 99% confidence level respectively"
   ]
  },
  {
   "cell_type": "code",
   "execution_count": 15,
   "id": "49227cfc",
   "metadata": {},
   "outputs": [],
   "source": [
    "# Define the ticker symbol for the stock you want to analyze\n",
    "symbol = 'VOO'\n",
    "\n",
    "# Define the parameters for VaR calculation\n",
    "alpha = 0.05\n",
    "confidence_level = 1 - alpha"
   ]
  },
  {
   "cell_type": "markdown",
   "id": "54239337",
   "metadata": {},
   "source": [
    "VaR and ES are usually taken at 1-year timeframe for calculation, so the days equal to 365"
   ]
  },
  {
   "cell_type": "code",
   "execution_count": null,
   "id": "7f71e1fc",
   "metadata": {},
   "outputs": [],
   "source": [
    "# Download historical data using yfinance\n",
    "start_date = datetime.today() - timedelta(days=365)\n",
    "end_date = datetime.today()\n",
    "data = yf.download(symbol, start=start_date, end=end_date)"
   ]
  },
  {
   "cell_type": "markdown",
   "id": "89d11f7e",
   "metadata": {},
   "source": [
    "Calculate daily returns for further processing"
   ]
  },
  {
   "cell_type": "code",
   "execution_count": null,
   "id": "94fd067f",
   "metadata": {},
   "outputs": [],
   "source": [
    "# Calculate daily returns\n",
    "data['Returns'] = data['Adj Close'].pct_change().dropna()\n",
    "data = data.tail(-1)\n",
    "\n",
    "# Calculate daily log returns\n",
    "data['LogReturns'] = np.log(data['Adj Close']).diff().dropna()\n",
    "data = data.tail(-1)\n",
    "\n",
    "# Calculate mean of daily returns and standard deviation\n",
    "returns_mean = data['LogReturns'].mean()\n",
    "returns_std = data['LogReturns'].std()"
   ]
  },
  {
   "cell_type": "markdown",
   "id": "6e0f5529",
   "metadata": {},
   "source": [
    "We look at the autocorrelation of the returns to determine the p and q parameters in the GARCH model"
   ]
  },
  {
   "cell_type": "code",
   "execution_count": null,
   "id": "fd694680",
   "metadata": {},
   "outputs": [],
   "source": [
    "squared_returns = data['LogReturns']**2\n",
    "\n",
    "plot_acf(squared_returns)\n",
    "plt.show()"
   ]
  },
  {
   "cell_type": "markdown",
   "id": "db32ad3e",
   "metadata": {},
   "source": [
    "Generalised AutoRegressive Conditional Heteroskedasticity (GARCH) model used here is a popular model to forecast the volatility, and we used the modelled returns and volatilities to estimate the VaR"
   ]
  },
  {
   "cell_type": "code",
   "execution_count": null,
   "id": "846249e3",
   "metadata": {},
   "outputs": [],
   "source": [
    "# Calculate filtered returns and VaR using GARCH model\n",
    "model = arch_model(data['LogReturns'], vol='Garch', p=1, q=1, rescale=False)\n",
    "result = model.fit(update_freq=5)\n",
    "data['FilteredReturns'] = -data['LogReturns'] / result.conditional_volatility / 100\n",
    "data['GARCHVaR'] = result.conditional_volatility * data['FilteredReturns'].quantile(alpha) * 100"
   ]
  },
  {
   "cell_type": "markdown",
   "id": "c150fa8c",
   "metadata": {},
   "source": [
    "Here we calculated the ES and a simplified stressed ES for demonstration purpose"
   ]
  },
  {
   "cell_type": "code",
   "execution_count": 18,
   "id": "43fd42e3",
   "metadata": {},
   "outputs": [],
   "source": [
    "# Calculate ES using historical simulation\n",
    "sorted_returns = data['LogReturns'].sort_values(ascending=True)\n",
    "index = int(alpha * len(sorted_returns))\n",
    "data['ES'] = sorted_returns[:index].mean()\n",
    "\n",
    "# Calculate stressed ES\n",
    "stress_factor = 1.5\n",
    "risk_weight = 2.0\n",
    "data['StressedES'] = data['ES'] * stress_factor"
   ]
  },
  {
   "cell_type": "markdown",
   "id": "8fb9e94d",
   "metadata": {},
   "source": [
    "And finally, we plot the histograms of modelled returns, normal distrbution line and risk measures"
   ]
  },
  {
   "cell_type": "code",
   "execution_count": null,
   "id": "9f467b56",
   "metadata": {},
   "outputs": [],
   "source": [
    "fig, ax = plt.subplots(figsize=(12, 6))\n",
    "\n",
    "# Calculate returns histogram\n",
    "returns_hist = plt.hist(data['LogReturns'], bins=50, edgecolor='black', linewidth=1)\n",
    "\n",
    "# Plot normal distribution line\n",
    "x = np.linspace(returns_mean - 3 * returns_std, returns_mean + 3 * returns_std, 100)\n",
    "y = norm.pdf(x, returns_mean, returns_std)\n",
    "ax.plot(x, y, color='blue', linewidth=1)\n",
    "\n",
    "# Plot vertical lines for risk measures\n",
    "plt.axvline(data['GARCHVaR'].iloc[-1], color='green', linestyle='--', linewidth=1)\n",
    "plt.axvline(data['ES'].iloc[-1], color='orange', linestyle='--', linewidth=1)\n",
    "plt.axvline(data['StressedES'].iloc[-1], color='red', linestyle='--', linewidth=1)\n",
    "\n",
    "# Customize the plot\n",
    "plt.title(f'{symbol} Risk Analysis')\n",
    "plt.xlabel('Returns')\n",
    "plt.ylabel('Frequency')\n",
    "\n",
    "plt.show()"
   ]
  },
  {
   "cell_type": "markdown",
   "id": "11cc9f02",
   "metadata": {},
   "source": [
    "#### Interpertation of the visualisation\n",
    "\n",
    "Green line = VaR\n",
    "Yellow line = ES\n",
    "Red line = Simplified Stressed ES\n",
    "\n",
    "The visualisation will show the approximate risks from each risk measure. For the precise VaR amount, the below summary will conclude the risk amount in dollar terms in VaR and ES"
   ]
  },
  {
   "cell_type": "code",
   "execution_count": null,
   "id": "8b24c5e8",
   "metadata": {},
   "outputs": [],
   "source": [
    "VaR_amount = data['GARCHVaR'][-1] * data['Adj Close'][-1]\n",
    "\n",
    "print(f'There is {confidence_level*100}% confidence, that over the coming 365 days the {symbol} will not lose more than {-VaR_amount}' in one day)"
   ]
  },
  {
   "cell_type": "code",
   "execution_count": null,
   "id": "f182f10b",
   "metadata": {},
   "outputs": [],
   "source": [
    "ES_amount = data['ES'][-1] * data['Adj Close'][-1]\n",
    "\n",
    "print(f'There is {confidence_level*100}% confidence, that over the coming 365 days the {symbol} will not lose more than {-ES_amount} in one day')"
   ]
  },
  {
   "cell_type": "code",
   "execution_count": null,
   "id": "b9f77f7d",
   "metadata": {},
   "outputs": [],
   "source": [
    "# Calculate the number of exceedances\n",
    "exceedances = np.sum((data['LogReturns'] < 0) & (data['LogReturns'] < data['GARCHVaR']))\n",
    "\n",
    "# Calculate the number of exceedances expected at the specified alpha level\n",
    "expected_exceedances = len(data) * alpha\n",
    "\n",
    "# Calculate the test statistic\n",
    "test_statistic = (exceedances - expected_exceedances) / np.sqrt(expected_exceedances * (1 - alpha))\n",
    "\n",
    "# Calculate the p-value\n",
    "p_value = 1 - norm.cdf(test_statistic)\n",
    "\n",
    "# Perform the coverage test\n",
    "if p_value >= 0.05:\n",
    "    print(\"Coverage test passed: VaR is accurate at the specified alpha level.\")\n",
    "else:\n",
    "    print(\"Coverage test failed: VaR is not accurate at the specified alpha level.\")"
   ]
  },
  {
   "cell_type": "code",
   "execution_count": null,
   "id": "5b64c4fc",
   "metadata": {},
   "outputs": [],
   "source": [
    "# Calculate the correlation between returns and filtered returns\n",
    "correlation = data['LogReturns'].corr(data['FilteredReturns'])\n",
    "\n",
    "# Perform Filiben's correlation test for normality\n",
    "if abs(correlation) < 0.1:\n",
    "    print(\"Distribution test passed: Returns are approximately normally distributed.\")\n",
    "else:\n",
    "    print(\"Distribution test failed: Returns are not normally distributed.\")"
   ]
  }
 ],
 "metadata": {
  "kernelspec": {
   "display_name": "Python 3 (ipykernel)",
   "language": "python",
   "name": "python3"
  },
  "language_info": {
   "codemirror_mode": {
    "name": "ipython",
    "version": 3
   },
   "file_extension": ".py",
   "mimetype": "text/x-python",
   "name": "python",
   "nbconvert_exporter": "python",
   "pygments_lexer": "ipython3",
   "version": "3.9.16"
  }
 },
 "nbformat": 4,
 "nbformat_minor": 5
}
